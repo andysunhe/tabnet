{
 "cells": [
  {
   "cell_type": "code",
   "execution_count": 1,
   "metadata": {},
   "outputs": [],
   "source": [
    "from pytorch_tabnet.tab_model import TabNetClassifier\n",
    "\n",
    "import torch\n",
    "from sklearn.preprocessing import LabelEncoder\n",
    "from sklearn.metrics import roc_auc_score\n",
    "\n",
    "import pandas as pd\n",
    "import numpy as np\n",
    "np.random.seed(0)\n",
    "\n",
    "\n",
    "import os\n",
    "import wget\n",
    "from pathlib import Path\n",
    "\n",
    "from matplotlib import pyplot as plt\n",
    "%matplotlib inline"
   ]
  },
  {
   "cell_type": "markdown",
   "metadata": {},
   "source": [
    "# Download census-income dataset"
   ]
  },
  {
   "cell_type": "code",
   "execution_count": 2,
   "metadata": {},
   "outputs": [],
   "source": [
    "url = \"https://archive.ics.uci.edu/ml/machine-learning-databases/adult/adult.data\"\n",
    "dataset_name = 'census-income'\n",
    "out = Path(os.getcwd()+'/data/'+dataset_name+'.csv')"
   ]
  },
  {
   "cell_type": "code",
   "execution_count": 3,
   "metadata": {},
   "outputs": [
    {
     "name": "stdout",
     "output_type": "stream",
     "text": [
      "File already exists.\n"
     ]
    }
   ],
   "source": [
    "out.parent.mkdir(parents=True, exist_ok=True)\n",
    "if out.exists():\n",
    "    print(\"File already exists.\")\n",
    "else:\n",
    "    print(\"Downloading file...\")\n",
    "    wget.download(url, out.as_posix())"
   ]
  },
  {
   "cell_type": "markdown",
   "metadata": {},
   "source": [
    "# Load data and split"
   ]
  },
  {
   "cell_type": "code",
   "execution_count": 4,
   "metadata": {},
   "outputs": [],
   "source": [
    "train = pd.read_csv(out)\n",
    "target = ' <=50K'\n",
    "if \"Set\" not in train.columns:\n",
    "    train[\"Set\"] = np.random.choice([\"train\", \"valid\", \"test\"], p =[.8, .1, .1], size=(train.shape[0],))\n",
    "\n",
    "train_indices = train[train.Set==\"train\"].index\n",
    "valid_indices = train[train.Set==\"valid\"].index\n",
    "test_indices = train[train.Set==\"test\"].index"
   ]
  },
  {
   "cell_type": "markdown",
   "metadata": {},
   "source": [
    "# Simple preprocessing\n",
    "\n",
    "Label encode categorical features and fill empty cells."
   ]
  },
  {
   "cell_type": "code",
   "execution_count": 5,
   "metadata": {},
   "outputs": [
    {
     "name": "stdout",
     "output_type": "stream",
     "text": [
      "39 73\n",
      " State-gov 9\n",
      " Bachelors 16\n",
      " 13 16\n",
      " Never-married 7\n",
      " Adm-clerical 15\n",
      " Not-in-family 6\n",
      " White 5\n",
      " Male 2\n",
      " 2174 119\n",
      " 0 92\n",
      " 40 94\n",
      " United-States 42\n",
      " <=50K 2\n",
      "Set 3\n"
     ]
    }
   ],
   "source": [
    "nunique = train.nunique()\n",
    "types = train.dtypes\n",
    "\n",
    "categorical_columns = []\n",
    "categorical_dims =  {}\n",
    "for col in train.columns:\n",
    "    if types[col] == 'object' or nunique[col] < 200:\n",
    "        print(col, train[col].nunique())\n",
    "        l_enc = LabelEncoder()\n",
    "        train[col] = train[col].fillna(\"VV_likely\")\n",
    "        train[col] = l_enc.fit_transform(train[col].values)\n",
    "        categorical_columns.append(col)\n",
    "        categorical_dims[col] = len(l_enc.classes_)\n",
    "    else:\n",
    "        train.fillna(train.loc[train_indices, col].mean(), inplace=True)"
   ]
  },
  {
   "cell_type": "markdown",
   "metadata": {},
   "source": [
    "# Define categorical features for categorical embeddings"
   ]
  },
  {
   "cell_type": "code",
   "execution_count": 6,
   "metadata": {},
   "outputs": [],
   "source": [
    "unused_feat = ['Set']\n",
    "\n",
    "features = [ col for col in train.columns if col not in unused_feat+[target]] \n",
    "\n",
    "cat_idxs = [ i for i, f in enumerate(features) if f in categorical_columns]\n",
    "\n",
    "cat_dims = [ categorical_dims[f] for i, f in enumerate(features) if f in categorical_columns]\n"
   ]
  },
  {
   "cell_type": "markdown",
   "metadata": {},
   "source": [
    "# Network parameters"
   ]
  },
  {
   "cell_type": "code",
   "execution_count": 7,
   "metadata": {},
   "outputs": [],
   "source": [
    "params = {'n_steps': 3,\n",
    " 'n_shared': 2,\n",
    " 'n_independent': 1,\n",
    " 'n_a': 21,\n",
    " 'n_d': 21,\n",
    " 'momentum': 0.02,\n",
    " 'lr': 0.1,\n",
    " 'lambda_sparse': 0.01,\n",
    " 'gamma': 0.5,\n",
    " 'clip_value': 1,\n",
    " 'cat_emb_dim': [1, 1, 1, 1, 1, 1, 1, 1, 1, 1, 1, 1, 1]}\n",
    "\n",
    "\n",
    "params =  {#'batch_size': 1024,\n",
    " 'cat_emb_dim': [5, 5, 5, 5, 5, 3, 5, 5, 1, 5, 4, 5, 3],\n",
    " 'clip_value': 1,\n",
    " #'drop_last': False,\n",
    " 'gamma': 1.7949255838988916,\n",
    " 'lambda_sparse': 0.01894902609178557,\n",
    " 'lr': 0.1,\n",
    " #'max_epochs': 1000,\n",
    " 'momentum': 0.02209865986831315,\n",
    " 'n_a': 37,\n",
    " 'n_independent': 0,\n",
    " 'n_shared': 0,\n",
    " 'n_steps': 2,\n",
    " #'num_workers': 12,\n",
    " #'patience': 5,\n",
    " 'verbose': 1,\n",
    " #'virtual_batch_size': 256,\n",
    " 'n_d': 37}"
   ]
  },
  {
   "cell_type": "code",
   "execution_count": 8,
   "metadata": {},
   "outputs": [
    {
     "name": "stdout",
     "output_type": "stream",
     "text": [
      "Device used : cuda\n"
     ]
    }
   ],
   "source": [
    "clf = TabNetClassifier(cat_idxs=cat_idxs, cat_dims=cat_dims,\n",
    "                       **params)"
   ]
  },
  {
   "cell_type": "markdown",
   "metadata": {},
   "source": [
    "# Training"
   ]
  },
  {
   "cell_type": "code",
   "execution_count": 9,
   "metadata": {},
   "outputs": [],
   "source": [
    "X_train = train[features].values[train_indices]\n",
    "y_train = train[target].values[train_indices]\n",
    "\n",
    "X_valid = train[features].values[valid_indices]\n",
    "y_valid = train[target].values[valid_indices]\n",
    "\n",
    "X_test = train[features].values[test_indices]\n",
    "y_test = train[target].values[test_indices]"
   ]
  },
  {
   "cell_type": "code",
   "execution_count": 10,
   "metadata": {
    "scrolled": true
   },
   "outputs": [
    {
     "name": "stdout",
     "output_type": "stream",
     "text": [
      "Will train until validation stopping metric hasn't improved in 50 rounds.\n",
      "---------------------------------------\n",
      "| EPOCH |  train  |   valid  | total time (s)\n",
      "| 1     | 0.74884 |  0.83772 |   3.3       \n",
      "| 2     | 0.86683 |  0.88288 |   5.5       \n",
      "| 3     | 0.88942 |  0.88742 |   7.6       \n",
      "| 4     | 0.89831 |  0.89862 |   9.8       \n",
      "| 5     | 0.90212 |  0.89679 |   12.1      \n",
      "| 6     | 0.90760 |  0.89913 |   14.3      \n",
      "| 7     | 0.91499 |  0.91470 |   16.5      \n",
      "| 8     | 0.91787 |  0.91783 |   18.8      \n",
      "| 9     | 0.92102 |  0.91870 |   21.0      \n",
      "| 10    | 0.92352 |  0.89347 |   23.1      \n",
      "| 11    | 0.92488 |  0.92543 |   25.2      \n",
      "| 12    | 0.92619 |  0.92800 |   27.4      \n",
      "| 13    | 0.92633 |  0.92488 |   29.6      \n",
      "| 14    | 0.92726 |  0.92228 |   31.8      \n",
      "| 15    | 0.92760 |  0.92545 |   34.0      \n",
      "| 16    | 0.93018 |  0.92108 |   36.2      \n",
      "| 17    | 0.93064 |  0.92452 |   38.4      \n",
      "| 18    | 0.93003 |  0.92977 |   40.7      \n",
      "| 19    | 0.93130 |  0.93003 |   42.9      \n",
      "| 20    | 0.93136 |  0.92893 |   45.1      \n",
      "| 21    | 0.93293 |  0.92592 |   47.4      \n",
      "| 22    | 0.93274 |  0.92971 |   49.7      \n",
      "| 23    | 0.93261 |  0.92840 |   51.9      \n",
      "| 24    | 0.93407 |  0.92555 |   54.1      \n",
      "| 25    | 0.93287 |  0.92512 |   56.4      \n",
      "| 26    | 0.93470 |  0.92766 |   58.7      \n",
      "| 27    | 0.93556 |  0.92361 |   60.8      \n",
      "| 28    | 0.93207 |  0.92139 |   63.1      \n",
      "| 29    | 0.93457 |  0.92654 |   65.3      \n",
      "| 30    | 0.93673 |  0.92504 |   67.4      \n",
      "| 31    | 0.93777 |  0.92375 |   69.7      \n",
      "| 32    | 0.93642 |  0.92541 |   71.9      \n",
      "| 33    | 0.93634 |  0.90921 |   74.0      \n",
      "| 34    | 0.93741 |  0.92648 |   76.2      \n",
      "| 35    | 0.93882 |  0.92656 |   78.5      \n",
      "| 36    | 0.93795 |  0.92548 |   80.5      \n",
      "| 37    | 0.93842 |  0.92501 |   82.8      \n",
      "| 38    | 0.93909 |  0.92742 |   85.0      \n",
      "| 39    | 0.93813 |  0.92540 |   87.3      \n",
      "| 40    | 0.94024 |  0.92514 |   89.6      \n",
      "| 41    | 0.93986 |  0.92557 |   91.8      \n",
      "| 42    | 0.94024 |  0.92675 |   94.0      \n",
      "| 43    | 0.94066 |  0.92332 |   96.3      \n",
      "| 44    | 0.94196 |  0.92320 |   98.4      \n",
      "| 45    | 0.94243 |  0.92445 |   100.5     \n",
      "| 46    | 0.94372 |  0.92113 |   102.7     \n",
      "| 47    | 0.94056 |  0.92175 |   104.9     \n",
      "| 48    | 0.94197 |  0.92416 |   107.2     \n",
      "| 49    | 0.94199 |  0.92510 |   109.6     \n",
      "| 50    | 0.94154 |  0.92104 |   111.9     \n",
      "| 51    | 0.94397 |  0.92661 |   114.1     \n",
      "| 52    | 0.94334 |  0.92022 |   116.1     \n",
      "| 53    | 0.94386 |  0.92304 |   118.2     \n",
      "| 54    | 0.94453 |  0.92633 |   120.5     \n",
      "| 55    | 0.94469 |  0.92378 |   122.7     \n",
      "| 56    | 0.94565 |  0.92475 |   124.9     \n",
      "| 57    | 0.94439 |  0.92153 |   127.1     \n",
      "| 58    | 0.94665 |  0.92285 |   129.3     \n",
      "| 59    | 0.94531 |  0.91909 |   131.6     \n",
      "| 60    | 0.94741 |  0.92123 |   133.8     \n",
      "| 61    | 0.94538 |  0.92422 |   136.0     \n",
      "| 62    | 0.94730 |  0.92435 |   138.3     \n",
      "| 63    | 0.94531 |  0.92335 |   140.5     \n",
      "| 64    | 0.94368 |  0.91308 |   142.7     \n",
      "| 65    | 0.94585 |  0.92138 |   144.8     \n",
      "| 66    | 0.94796 |  0.92191 |   147.0     \n",
      "| 67    | 0.94976 |  0.92169 |   149.2     \n",
      "| 68    | 0.94975 |  0.91746 |   151.5     \n",
      "| 69    | 0.94912 |  0.92209 |   153.8     \n",
      "Early stopping occured at epoch 69\n",
      "Training done in 153.785 seconds.\n",
      "---------------------------------------\n"
     ]
    }
   ],
   "source": [
    "clf.fit(\n",
    "    X_train=X_train, y_train=y_train,\n",
    "    X_valid=X_valid, y_valid=y_valid,\n",
    "    max_epochs=1000 , patience=50,\n",
    "    batch_size=1024, virtual_batch_size=128,\n",
    "    num_workers=12,\n",
    "    drop_last=False\n",
    ") "
   ]
  },
  {
   "cell_type": "code",
   "execution_count": 11,
   "metadata": {},
   "outputs": [
    {
     "data": {
      "text/plain": [
       "[<matplotlib.lines.Line2D at 0x7fe6871bde90>]"
      ]
     },
     "execution_count": 11,
     "metadata": {},
     "output_type": "execute_result"
    },
    {
     "data": {
      "image/png": "[encoded data removed]",
      "text/plain": [
       "<Figure size 432x288 with 1 Axes>"
      ]
     },
     "metadata": {
      "needs_background": "light"
     },
     "output_type": "display_data"
    }
   ],
   "source": [
    "# plot losses\n",
    "plt.plot(clf.history['train']['loss'])\n",
    "plt.plot(clf.history['valid']['loss'])"
   ]
  },
  {
   "cell_type": "code",
   "execution_count": 12,
   "metadata": {},
   "outputs": [
    {
     "data": {
      "text/plain": [
       "[<matplotlib.lines.Line2D at 0x7fe709182790>]"
      ]
     },
     "execution_count": 12,
     "metadata": {},
     "output_type": "execute_result"
    },
    {
     "data": {
      "image/png": "[encoded data removed]",
      "text/plain": [
       "<Figure size 432x288 with 1 Axes>"
      ]
     },
     "metadata": {
      "needs_background": "light"
     },
     "output_type": "display_data"
    }
   ],
   "source": [
    "# plot auc\n",
    "plt.plot([-x for x in clf.history['train']['metric']])\n",
    "plt.plot([-x for x in clf.history['valid']['metric']])"
   ]
  },
  {
   "cell_type": "markdown",
   "metadata": {},
   "source": [
    "### Predictions"
   ]
  },
  {
   "cell_type": "code",
   "execution_count": 13,
   "metadata": {},
   "outputs": [
    {
     "name": "stdout",
     "output_type": "stream",
     "text": [
      "BEST VALID SCORE FOR census-income : -0.9300321551630452\n",
      "FINAL TEST SCORE FOR census-income : 0.929152251345288\n"
     ]
    }
   ],
   "source": [
    "preds = clf.predict_proba(X_test)\n",
    "test_auc = roc_auc_score(y_score=preds[:,1], y_true=y_test)\n",
    "\n",
    "print(f\"BEST VALID SCORE FOR {dataset_name} : {clf.best_cost}\")\n",
    "print(f\"FINAL TEST SCORE FOR {dataset_name} : {test_auc}\")"
   ]
  },
  {
   "cell_type": "code",
   "execution_count": 14,
   "metadata": {},
   "outputs": [
    {
     "data": {
      "text/plain": [
       "TabNet(\n",
       "  (embedder): EmbeddingGenerator(\n",
       "    (embeddings): ModuleList(\n",
       "      (0): Embedding(73, 5)\n",
       "      (1): Embedding(9, 5)\n",
       "      (2): Embedding(16, 5)\n",
       "      (3): Embedding(16, 5)\n",
       "      (4): Embedding(7, 5)\n",
       "      (5): Embedding(15, 3)\n",
       "      (6): Embedding(6, 5)\n",
       "      (7): Embedding(5, 5)\n",
       "      (8): Embedding(2, 1)\n",
       "      (9): Embedding(119, 5)\n",
       "      (10): Embedding(92, 4)\n",
       "      (11): Embedding(94, 5)\n",
       "      (12): Embedding(42, 3)\n",
       "    )\n",
       "  )\n",
       "  (tabnet): TabNetNoEmbeddings(\n",
       "    (initial_splitter): FeatTransformer(\n",
       "      (specifics): GLU_Block(\n",
       "        (glu_layers): ModuleList(\n",
       "          (0): GLU_Layer(\n",
       "            (fc): Linear(in_features=57, out_features=148, bias=False)\n",
       "            (bn): GBN(\n",
       "              (bn): BatchNorm1d(148, eps=1e-05, momentum=0.02209865986831315, affine=True, track_running_stats=True)\n",
       "            )\n",
       "          )\n",
       "        )\n",
       "      )\n",
       "    )\n",
       "    (feat_transformers): ModuleList(\n",
       "      (0): FeatTransformer(\n",
       "        (specifics): GLU_Block(\n",
       "          (glu_layers): ModuleList(\n",
       "            (0): GLU_Layer(\n",
       "              (fc): Linear(in_features=57, out_features=148, bias=False)\n",
       "              (bn): GBN(\n",
       "                (bn): BatchNorm1d(148, eps=1e-05, momentum=0.02209865986831315, affine=True, track_running_stats=True)\n",
       "              )\n",
       "            )\n",
       "          )\n",
       "        )\n",
       "      )\n",
       "      (1): FeatTransformer(\n",
       "        (specifics): GLU_Block(\n",
       "          (glu_layers): ModuleList(\n",
       "            (0): GLU_Layer(\n",
       "              (fc): Linear(in_features=57, out_features=148, bias=False)\n",
       "              (bn): GBN(\n",
       "                (bn): BatchNorm1d(148, eps=1e-05, momentum=0.02209865986831315, affine=True, track_running_stats=True)\n",
       "              )\n",
       "            )\n",
       "          )\n",
       "        )\n",
       "      )\n",
       "    )\n",
       "    (att_transformers): ModuleList(\n",
       "      (0): AttentiveTransformer(\n",
       "        (fc): Linear(in_features=37, out_features=57, bias=False)\n",
       "        (bn): GBN(\n",
       "          (bn): BatchNorm1d(57, eps=1e-05, momentum=0.02209865986831315, affine=True, track_running_stats=True)\n",
       "        )\n",
       "        (sp_max): Sparsemax()\n",
       "      )\n",
       "      (1): AttentiveTransformer(\n",
       "        (fc): Linear(in_features=37, out_features=57, bias=False)\n",
       "        (bn): GBN(\n",
       "          (bn): BatchNorm1d(57, eps=1e-05, momentum=0.02209865986831315, affine=True, track_running_stats=True)\n",
       "        )\n",
       "        (sp_max): Sparsemax()\n",
       "      )\n",
       "    )\n",
       "    (final_mapping): Linear(in_features=37, out_features=2, bias=False)\n",
       "  )\n",
       "  (initial_bn): BatchNorm1d(57, eps=1e-05, momentum=0.01, affine=True, track_running_stats=True)\n",
       ")"
      ]
     },
     "execution_count": 14,
     "metadata": {},
     "output_type": "execute_result"
    }
   ],
   "source": [
    "clf.network"
   ]
  },
  {
   "cell_type": "markdown",
   "metadata": {},
   "source": [
    "# Global explainability : feat importance summing to 1"
   ]
  },
  {
   "cell_type": "code",
   "execution_count": 15,
   "metadata": {},
   "outputs": [
    {
     "data": {
      "text/plain": [
       "array([2.44837809e-02, 1.59313784e-02, 0.00000000e+00, 1.45062530e-01,\n",
       "       4.73338640e-02, 3.22095301e-01, 1.59118261e-04, 2.89352717e-01,\n",
       "       6.93391014e-03, 3.37052229e-06, 1.11132372e-01, 0.00000000e+00,\n",
       "       0.00000000e+00, 3.75116584e-02])"
      ]
     },
     "execution_count": 15,
     "metadata": {},
     "output_type": "execute_result"
    }
   ],
   "source": [
    "clf.feature_importances_"
   ]
  },
  {
   "cell_type": "markdown",
   "metadata": {},
   "source": [
    "# Local explainability and masks"
   ]
  },
  {
   "cell_type": "code",
   "execution_count": 16,
   "metadata": {},
   "outputs": [],
   "source": [
    "explain_matrix, masks = clf.explain(X_test)"
   ]
  },
  {
   "cell_type": "code",
   "execution_count": 17,
   "metadata": {},
   "outputs": [
    {
     "data": {
      "image/png": "[encoded data removed]",
      "text/plain": [
       "<Figure size 1440x1440 with 3 Axes>"
      ]
     },
     "metadata": {
      "needs_background": "light"
     },
     "output_type": "display_data"
    }
   ],
   "source": [
    "fig, axs = plt.subplots(1, 3, figsize=(20,20))\n",
    "\n",
    "for i in range(2):\n",
    "    axs[i].imshow(masks[i][:50])\n",
    "    axs[i].set_title(f\"mask {i}\")\n"
   ]
  },
  {
   "cell_type": "markdown",
   "metadata": {},
   "source": [
    "# XGB"
   ]
  },
  {
   "cell_type": "code",
   "execution_count": 18,
   "metadata": {
    "scrolled": true
   },
   "outputs": [
    {
     "name": "stdout",
     "output_type": "stream",
     "text": [
      "[0]\tvalidation_0-error:0.137845\n",
      "Will train until validation_0-error hasn't improved in 40 rounds.\n",
      "[10]\tvalidation_0-error:0.129152\n",
      "[20]\tvalidation_0-error:0.126669\n",
      "[30]\tvalidation_0-error:0.124806\n",
      "[40]\tvalidation_0-error:0.124806\n",
      "[50]\tvalidation_0-error:0.124185\n",
      "[60]\tvalidation_0-error:0.124185\n",
      "[70]\tvalidation_0-error:0.124185\n",
      "[80]\tvalidation_0-error:0.124495\n",
      "[90]\tvalidation_0-error:0.123254\n",
      "[100]\tvalidation_0-error:0.122012\n",
      "[110]\tvalidation_0-error:0.121701\n",
      "[120]\tvalidation_0-error:0.122012\n",
      "[130]\tvalidation_0-error:0.122322\n",
      "[140]\tvalidation_0-error:0.122943\n",
      "Stopping. Best iteration:\n",
      "[103]\tvalidation_0-error:0.12108\n",
      "\n"
     ]
    },
    {
     "data": {
      "text/plain": [
       "XGBClassifier(base_score=0.5, booster='gbtree', colsample_bylevel=1,\n",
       "              colsample_bynode=1, colsample_bytree=1, gamma=0,\n",
       "              learning_rate=0.1, max_delta_step=0, max_depth=8,\n",
       "              min_child_weight=1, missing=None, n_estimators=1000, n_jobs=-1,\n",
       "              nthread=None, objective='binary:logistic', random_state=0,\n",
       "              reg_alpha=0, reg_lambda=1, scale_pos_weight=1, seed=None,\n",
       "              silent=None, subsample=0.7, verbosity=0)"
      ]
     },
     "execution_count": 18,
     "metadata": {},
     "output_type": "execute_result"
    }
   ],
   "source": [
    "from xgboost import XGBClassifier\n",
    "\n",
    "clf_xgb = XGBClassifier(max_depth=8,\n",
    "    learning_rate=0.1,\n",
    "    n_estimators=1000,\n",
    "    verbosity=0,\n",
    "    silent=None,\n",
    "    objective='binary:logistic',\n",
    "    booster='gbtree',\n",
    "    n_jobs=-1,\n",
    "    nthread=None,\n",
    "    gamma=0,\n",
    "    min_child_weight=1,\n",
    "    max_delta_step=0,\n",
    "    subsample=0.7,\n",
    "    colsample_bytree=1,\n",
    "    colsample_bylevel=1,\n",
    "    colsample_bynode=1,\n",
    "    reg_alpha=0,\n",
    "    reg_lambda=1,\n",
    "    scale_pos_weight=1,\n",
    "    base_score=0.5,\n",
    "    random_state=0,\n",
    "    seed=None,)\n",
    "\n",
    "clf_xgb.fit(X_train, y_train,\n",
    "        eval_set=[(X_valid, y_valid)],\n",
    "        early_stopping_rounds=40,\n",
    "        verbose=10)"
   ]
  },
  {
   "cell_type": "code",
   "execution_count": 19,
   "metadata": {},
   "outputs": [
    {
     "name": "stdout",
     "output_type": "stream",
     "text": [
      "0.9335963387010509\n",
      "0.9243623615745874\n"
     ]
    }
   ],
   "source": [
    "preds = np.array(clf_xgb.predict_proba(X_valid))\n",
    "valid_auc = roc_auc_score(y_score=preds[:,1], y_true=y_valid)\n",
    "print(valid_auc)\n",
    "\n",
    "preds = np.array(clf_xgb.predict_proba(X_test))\n",
    "test_auc = roc_auc_score(y_score=preds[:,1], y_true=y_test)\n",
    "print(test_auc)"
   ]
  },
  {
   "cell_type": "code",
   "execution_count": null,
   "metadata": {},
   "outputs": [],
   "source": []
  }
 ],
 "metadata": {
  "kernelspec": {
   "display_name": "Python 3",
   "language": "python",
   "name": "python3"
  },
  "language_info": {
   "codemirror_mode": {
    "name": "ipython",
    "version": 3
   },
   "file_extension": ".py",
   "mimetype": "text/x-python",
   "name": "python",
   "nbconvert_exporter": "python",
   "pygments_lexer": "ipython3",
   "version": "3.7.7"
  }
 },
 "nbformat": 4,
 "nbformat_minor": 2
}
